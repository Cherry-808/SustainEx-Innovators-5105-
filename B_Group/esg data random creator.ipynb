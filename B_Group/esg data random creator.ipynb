{
 "cells": [
  {
   "cell_type": "code",
   "execution_count": 1,
   "metadata": {},
   "outputs": [
    {
     "name": "stdout",
     "output_type": "stream",
     "text": [
      "`esg_data.csv` 文件已成功创建并保存。\n"
     ]
    }
   ],
   "source": [
    "import pandas as pd\n",
    "import numpy as np\n",
    "from datetime import datetime, timedelta\n",
    "import random\n",
    "\n",
    "# 设置随机种子以确保可重复性\n",
    "np.random.seed(0)\n",
    "\n",
    "# 配置样本数量和行业类别\n",
    "num_samples = 100  # 数据集中的公司数量\n",
    "industries = ['Finance', 'Technology', 'Manufacturing', 'Energy', 'Healthcare']\n",
    "\n",
    "# 创建随机数据\n",
    "data = {\n",
    "    'company_id': range(1, num_samples + 1),\n",
    "    'company_name': [f'Company_{i+1}' for i in range(num_samples)],\n",
    "    'industry': [random.choice(industries) for _ in range(num_samples)],\n",
    "    'date': [datetime(2024, 1, 1) + timedelta(days=random.randint(0, 365)) for _ in range(num_samples)],\n",
    "    'carbon_footprint': np.random.uniform(0, 100, num_samples),  # 碳足迹分数\n",
    "    'labor_practices': np.random.uniform(0, 100, num_samples),   # 劳动实践分数\n",
    "    'board_diversity': np.random.uniform(0, 100, num_samples),   # 董事会多样性分数\n",
    "    'financial_performance': np.random.uniform(0, 100, num_samples)  # 财务表现分数，用于相关性分析\n",
    "}\n",
    "\n",
    "# 创建 DataFrame\n",
    "esg_data = pd.DataFrame(data)\n",
    "\n",
    "# 引入部分缺失值，模拟实际情况中的数据缺失\n",
    "for col in ['carbon_footprint', 'labor_practices', 'board_diversity']:\n",
    "    esg_data.loc[esg_data.sample(frac=0.1).index, col] = np.nan\n",
    "\n",
    "# 保存为 CSV 文件\n",
    "esg_data.to_csv(\"esg_data.csv\", index=False)\n",
    "\n",
    "print(\"`esg_data.csv` 文件已成功创建并保存。\")\n"
   ]
  }
 ],
 "metadata": {
  "kernelspec": {
   "display_name": "base",
   "language": "python",
   "name": "python3"
  },
  "language_info": {
   "codemirror_mode": {
    "name": "ipython",
    "version": 3
   },
   "file_extension": ".py",
   "mimetype": "text/x-python",
   "name": "python",
   "nbconvert_exporter": "python",
   "pygments_lexer": "ipython3",
   "version": "3.12.4"
  }
 },
 "nbformat": 4,
 "nbformat_minor": 2
}
